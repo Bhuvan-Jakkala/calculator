{
  "nbformat": 4,
  "nbformat_minor": 0,
  "metadata": {
    "colab": {
      "provenance": []
    },
    "kernelspec": {
      "name": "python3",
      "display_name": "Python 3"
    },
    "language_info": {
      "name": "python"
    }
  },
  "cells": [
    {
      "cell_type": "code",
      "execution_count": 1,
      "metadata": {
        "colab": {
          "base_uri": "https://localhost:8080/"
        },
        "id": "ArXJm-rBFKdJ",
        "outputId": "3fc0aacc-24ff-403f-8660-26808f2e1bfd"
      },
      "outputs": [
        {
          "name": "stdout",
          "output_type": "stream",
          "text": [
            "enter a number :5\n",
            "+\n",
            "-\n",
            "*\n",
            "/\n",
            "what operator do you want :/\n",
            "enter a number :10\n",
            "0.5\n",
            "want to calculate with same num = c or new number = n or want to stop = s :s\n"
          ]
        }
      ],
      "source": [
        "def calculator():\n",
        "    def add(a,b):\n",
        "        return a+b\n",
        "    def substract(a,b):\n",
        "        return a-b\n",
        "    def multiply(a,b):\n",
        "        return a*b\n",
        "    def divide(a,b):\n",
        "        return a/b\n",
        "    operators={\n",
        "        '+':add,\n",
        "        '-':substract,\n",
        "        '*':multiply,\n",
        "        '/':divide\n",
        "    }\n",
        "\n",
        "    num1=int(input('enter a number :'))\n",
        "    calculate_again=True\n",
        "    while calculate_again:\n",
        "        for i in operators:\n",
        "            print(i)\n",
        "        symbol=input('what operator do you want :')\n",
        "        num2=int(input('enter a number :'))\n",
        "        calculat_operate=operators[symbol]\n",
        "        output=calculat_operate(num1,num2)\n",
        "        print(output)\n",
        "        again=input('want to calculate with same num = c or new number = n or want to stop = s :').lower()\n",
        "        if again == 'c':\n",
        "            num1=output\n",
        "        elif again=='n':\n",
        "            calculator()\n",
        "        elif again == 's':\n",
        "            calculate_again=False\n",
        "calculator()"
      ]
    }
  ]
}